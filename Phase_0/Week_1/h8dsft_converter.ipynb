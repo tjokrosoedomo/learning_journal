{
 "cells": [
  {
   "cell_type": "markdown",
   "metadata": {},
   "source": [
    "# Konversi Celsius - Kelvin dan Kelvin - Celsius"
   ]
  },
  {
   "cell_type": "code",
   "execution_count": 52,
   "metadata": {},
   "outputs": [
    {
     "name": "stdout",
     "output_type": "stream",
     "text": [
      "Hasil Konversi \n",
      "100 K = -173.15 C\n"
     ]
    }
   ],
   "source": [
    "def converter_temp_CK(input_temp, var_temp):\n",
    "    if var_temp == \"C\":\n",
    "        result_temp = round(input_temp + 273.15, 2)\n",
    "        output_temp = \"K\"\n",
    "    elif var_temp == \"K\":\n",
    "        result_temp = round(input_temp - 273.15, 2)\n",
    "        output_temp = \"C\"\n",
    "    print(f\"Hasil Konversi \\n{input_temp} {var_temp} = {result_temp} {output_temp}\") \n",
    "        \n",
    "converter_temp_CK(100, \"K\")\n",
    "\n"
   ]
  },
  {
   "cell_type": "markdown",
   "metadata": {},
   "source": [
    "# Konversi Celsius - Fahrenheit dan Kelvin - Fahrenheit"
   ]
  },
  {
   "cell_type": "code",
   "execution_count": 50,
   "metadata": {},
   "outputs": [
    {
     "name": "stdout",
     "output_type": "stream",
     "text": [
      "Input Salah\n"
     ]
    }
   ],
   "source": [
    "def converter_temp_CKF(input_temp, var_temp):\n",
    "    if var_temp == \"C\":\n",
    "        result_temp = round((input_temp * (9/5)) + 32, 2)\n",
    "        output_temp = \"F\"\n",
    "        print(f\"Hasil Konversi \\n{input_temp} {var_temp} = {result_temp} {output_temp}\") \n",
    "    elif var_temp == \"K\":\n",
    "        result_temp = round(((input_temp - 273.15) * (9/5)) + 32, 2)\n",
    "        output_temp = \"F\"\n",
    "        print(f\"Hasil Konversi \\n{input_temp} {var_temp} = {result_temp} {output_temp}\") \n",
    "    else:\n",
    "        print(\"Input Salah\")\n",
    "    \n",
    "converter_temp_CKF(77, \"D\")"
   ]
  },
  {
   "cell_type": "markdown",
   "metadata": {},
   "source": [
    "# Konversi Fahrenheit - Celsius dan Fahrenheit - Kelvin"
   ]
  },
  {
   "cell_type": "code",
   "execution_count": 51,
   "metadata": {},
   "outputs": [
    {
     "name": "stdout",
     "output_type": "stream",
     "text": [
      "Input salah\n"
     ]
    }
   ],
   "source": [
    "def converter_temp_FCK(input_temp, var_temp):\n",
    "    if var_temp == \"F\":\n",
    "        result_temp = round((input_temp - 32) * (5/9), 2)\n",
    "        output_temp = \"C\"\n",
    "        print(f\"Hasil Konversi \\n{input_temp} {var_temp} = {result_temp} {output_temp}\")\n",
    "    elif var_temp == \"F\":\n",
    "        result_temp = round((input_temp - 32) * (5/9) + 273.15, 2)\n",
    "        output_temp = \"K\"\n",
    "        print(f\"Hasil Konversi \\n{input_temp} {var_temp} = {result_temp} {output_temp}\")\n",
    "    else:\n",
    "        print(\"Input salah\")\n",
    "    \n",
    "converter_temp_FCK(100, \"K\")"
   ]
  }
 ],
 "metadata": {
  "interpreter": {
   "hash": "947d1eb574b79fafc921186bc7e6216b408f2a054e524c8af5c6e8cf0ab5b84d"
  },
  "kernelspec": {
   "display_name": "Python 3.9.7 ('base')",
   "language": "python",
   "name": "python3"
  },
  "language_info": {
   "codemirror_mode": {
    "name": "ipython",
    "version": 3
   },
   "file_extension": ".py",
   "mimetype": "text/x-python",
   "name": "python",
   "nbconvert_exporter": "python",
   "pygments_lexer": "ipython3",
   "version": "3.9.7"
  },
  "orig_nbformat": 4
 },
 "nbformat": 4,
 "nbformat_minor": 2
}

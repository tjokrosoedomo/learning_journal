{
 "cells": [
  {
   "cell_type": "markdown",
   "metadata": {},
   "source": [
    "# Non-Graded Challenge 1"
   ]
  },
  {
   "cell_type": "code",
   "execution_count": 144,
   "metadata": {},
   "outputs": [
    {
     "name": "stdout",
     "output_type": "stream",
     "text": [
      "402\n",
      "984\n",
      "360\n",
      "408\n",
      "980\n",
      "544\n",
      "390\n",
      "984\n",
      "592\n",
      "236\n",
      "942\n",
      "386\n",
      "462\n",
      "418\n",
      "344\n",
      "236\n",
      "566\n",
      "978\n",
      "328\n",
      "162\n",
      "758\n",
      "918\n"
     ]
    }
   ],
   "source": [
    "numbers = [951, 402, 984, 651, 360, 69, 408, 319, 601, \n",
    "           485, 980, 507, 725, 547, 544, 615, 83, 165, \n",
    "           141, 501, 263, 617, 865, 575, 219, 390, 984, \n",
    "           592, 236, 105, 942, 941, 386, 462, 47, 418, \n",
    "           907, 344, 236, 375, 823, 566, 597, 978, 328, \n",
    "           615, 953, 345, 399, 162, 758, 219, 918, 237, \n",
    "           412, 566, 826, 248, 866, 950, 626, 949]\n",
    "for x in numbers:\n",
    "    if x == 237:\n",
    "        break\n",
    "    if x % 2 != 0:\n",
    "        continue\n",
    "\n",
    "    \n",
    "    print(f\"{x}\")"
   ]
  },
  {
   "cell_type": "code",
   "execution_count": null,
   "metadata": {},
   "outputs": [],
   "source": [
    "lit = [\"geeks\", \"for\", \"geeks\"]\n",
    "for index in range(len(list)):\n",
    "    print (lit[index])"
   ]
  },
  {
   "cell_type": "code",
   "execution_count": 154,
   "metadata": {},
   "outputs": [
    {
     "name": "stdout",
     "output_type": "stream",
     "text": [
      "402\n",
      "984\n",
      "360\n",
      "408\n",
      "980\n",
      "544\n",
      "390\n",
      "984\n",
      "592\n",
      "236\n",
      "942\n",
      "386\n",
      "462\n",
      "418\n",
      "344\n",
      "236\n",
      "566\n",
      "978\n",
      "328\n",
      "162\n",
      "758\n",
      "918\n",
      "Done\n"
     ]
    }
   ],
   "source": [
    "numbers = [951, 402, 984, 651, 360, 69, 408, 319, 601, \n",
    "           485, 980, 507, 725, 547, 544, 615, 83, 165, \n",
    "           141, 501, 263, 617, 865, 575, 219, 390, 984, \n",
    "           592, 236, 105, 942, 941, 386, 462, 47, 418, \n",
    "           907, 344, 236, 375, 823, 566, 597, 978, 328, \n",
    "           615, 953, 345, 399, 162, 758, 219, 918, 237, \n",
    "           412, 566, 826, 248, 866, 950, 626, 949]\n",
    "\n",
    "for n in numbers:\n",
    "    if n == 237:\n",
    "        break\n",
    "    if n % 2 != 0:\n",
    "        continue\n",
    "    print(f\"{n}\")\n",
    "print(\"Done\")"
   ]
  }
 ],
 "metadata": {
  "interpreter": {
   "hash": "31f2aee4e71d21fbe5cf8b01ff0e069b9275f58929596ceb00d14d90e3e16cd6"
  },
  "kernelspec": {
   "display_name": "Python 3.8.9 64-bit",
   "language": "python",
   "name": "python3"
  },
  "language_info": {
   "name": "python",
   "version": "3.8.9"
  },
  "orig_nbformat": 4
 },
 "nbformat": 4,
 "nbformat_minor": 2
}
